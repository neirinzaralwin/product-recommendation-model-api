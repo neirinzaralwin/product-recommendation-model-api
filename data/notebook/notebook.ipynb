{
 "cells": [
  {
   "cell_type": "markdown",
   "metadata": {},
   "source": [
    "In this notebook, I will attempt at implementing **Content Based Recommendation System**."
   ]
  },
  {
   "cell_type": "code",
   "execution_count": 1,
   "metadata": {
    "_cell_guid": "b1076dfc-b9ad-4769-8c92-a6c4dae69d19",
    "_uuid": "8f2839f25d086af736a60e9eeb907d3b93b6e0e5",
    "execution": {
     "iopub.execute_input": "2024-11-25T12:43:20.896356Z",
     "iopub.status.busy": "2024-11-25T12:43:20.895815Z",
     "iopub.status.idle": "2024-11-25T12:43:22.903177Z",
     "shell.execute_reply": "2024-11-25T12:43:22.901737Z",
     "shell.execute_reply.started": "2024-11-25T12:43:20.896299Z"
    },
    "trusted": true
   },
   "outputs": [],
   "source": [
    "import pandas as pd\n",
    "import numpy as np\n",
    "import seaborn as sns\n",
    "import matplotlib.pyplot as plt\n",
    "import string\n",
    "import re\n",
    "import os\n",
    "%matplotlib inline"
   ]
  },
  {
   "cell_type": "code",
   "execution_count": 2,
   "metadata": {
    "_cell_guid": "79c7e3d0-c299-4dcb-8224-4455121ee9b0",
    "_uuid": "d629ff2d2480ee46fbb7e2d37f6b5fab8052498a",
    "execution": {
     "iopub.execute_input": "2024-11-25T12:43:28.978894Z",
     "iopub.status.busy": "2024-11-25T12:43:28.978554Z",
     "iopub.status.idle": "2024-11-25T12:43:29.835329Z",
     "shell.execute_reply": "2024-11-25T12:43:29.834369Z",
     "shell.execute_reply.started": "2024-11-25T12:43:28.978858Z"
    },
    "trusted": true
   },
   "outputs": [],
   "source": [
    "pre_df=pd.read_csv(\"/Users/neirinzaralwin/Developer/personal/product_recommendation_model_api/data/raw/flipkart_sample.csv\", na_values=[\"No rating available\"])"
   ]
  },
  {
   "cell_type": "code",
   "execution_count": 3,
   "metadata": {
    "execution": {
     "iopub.execute_input": "2024-11-25T12:43:35.386500Z",
     "iopub.status.busy": "2024-11-25T12:43:35.386186Z",
     "iopub.status.idle": "2024-11-25T12:43:35.423338Z",
     "shell.execute_reply": "2024-11-25T12:43:35.422242Z",
     "shell.execute_reply.started": "2024-11-25T12:43:35.386472Z"
    },
    "trusted": true
   },
   "outputs": [
    {
     "data": {
      "text/html": [
       "<div>\n",
       "<style scoped>\n",
       "    .dataframe tbody tr th:only-of-type {\n",
       "        vertical-align: middle;\n",
       "    }\n",
       "\n",
       "    .dataframe tbody tr th {\n",
       "        vertical-align: top;\n",
       "    }\n",
       "\n",
       "    .dataframe thead th {\n",
       "        text-align: right;\n",
       "    }\n",
       "</style>\n",
       "<table border=\"1\" class=\"dataframe\">\n",
       "  <thead>\n",
       "    <tr style=\"text-align: right;\">\n",
       "      <th></th>\n",
       "      <th>uniq_id</th>\n",
       "      <th>crawl_timestamp</th>\n",
       "      <th>product_url</th>\n",
       "      <th>product_name</th>\n",
       "      <th>product_category_tree</th>\n",
       "      <th>pid</th>\n",
       "      <th>retail_price</th>\n",
       "      <th>discounted_price</th>\n",
       "      <th>image</th>\n",
       "      <th>is_FK_Advantage_product</th>\n",
       "      <th>description</th>\n",
       "      <th>product_rating</th>\n",
       "      <th>overall_rating</th>\n",
       "      <th>brand</th>\n",
       "      <th>product_specifications</th>\n",
       "    </tr>\n",
       "  </thead>\n",
       "  <tbody>\n",
       "    <tr>\n",
       "      <th>0</th>\n",
       "      <td>c2d766ca982eca8304150849735ffef9</td>\n",
       "      <td>2016-03-25 22:59:23 +0000</td>\n",
       "      <td>http://www.flipkart.com/alisha-solid-women-s-c...</td>\n",
       "      <td>Alisha Solid Women's Cycling Shorts</td>\n",
       "      <td>[\"Clothing &gt;&gt; Women's Clothing &gt;&gt; Lingerie, Sl...</td>\n",
       "      <td>SRTEH2FF9KEDEFGF</td>\n",
       "      <td>999.0</td>\n",
       "      <td>379.0</td>\n",
       "      <td>[\"http://img5a.flixcart.com/image/short/u/4/a/...</td>\n",
       "      <td>False</td>\n",
       "      <td>Key Features of Alisha Solid Women's Cycling S...</td>\n",
       "      <td>NaN</td>\n",
       "      <td>NaN</td>\n",
       "      <td>Alisha</td>\n",
       "      <td>{\"product_specification\"=&gt;[{\"key\"=&gt;\"Number of ...</td>\n",
       "    </tr>\n",
       "    <tr>\n",
       "      <th>1</th>\n",
       "      <td>7f7036a6d550aaa89d34c77bd39a5e48</td>\n",
       "      <td>2016-03-25 22:59:23 +0000</td>\n",
       "      <td>http://www.flipkart.com/fabhomedecor-fabric-do...</td>\n",
       "      <td>FabHomeDecor Fabric Double Sofa Bed</td>\n",
       "      <td>[\"Furniture &gt;&gt; Living Room Furniture &gt;&gt; Sofa B...</td>\n",
       "      <td>SBEEH3QGU7MFYJFY</td>\n",
       "      <td>32157.0</td>\n",
       "      <td>22646.0</td>\n",
       "      <td>[\"http://img6a.flixcart.com/image/sofa-bed/j/f...</td>\n",
       "      <td>False</td>\n",
       "      <td>FabHomeDecor Fabric Double Sofa Bed (Finish Co...</td>\n",
       "      <td>NaN</td>\n",
       "      <td>NaN</td>\n",
       "      <td>FabHomeDecor</td>\n",
       "      <td>{\"product_specification\"=&gt;[{\"key\"=&gt;\"Installati...</td>\n",
       "    </tr>\n",
       "    <tr>\n",
       "      <th>2</th>\n",
       "      <td>f449ec65dcbc041b6ae5e6a32717d01b</td>\n",
       "      <td>2016-03-25 22:59:23 +0000</td>\n",
       "      <td>http://www.flipkart.com/aw-bellies/p/itmeh4grg...</td>\n",
       "      <td>AW Bellies</td>\n",
       "      <td>[\"Footwear &gt;&gt; Women's Footwear &gt;&gt; Ballerinas &gt;...</td>\n",
       "      <td>SHOEH4GRSUBJGZXE</td>\n",
       "      <td>999.0</td>\n",
       "      <td>499.0</td>\n",
       "      <td>[\"http://img5a.flixcart.com/image/shoe/7/z/z/r...</td>\n",
       "      <td>False</td>\n",
       "      <td>Key Features of AW Bellies Sandals Wedges Heel...</td>\n",
       "      <td>NaN</td>\n",
       "      <td>NaN</td>\n",
       "      <td>AW</td>\n",
       "      <td>{\"product_specification\"=&gt;[{\"key\"=&gt;\"Ideal For\"...</td>\n",
       "    </tr>\n",
       "    <tr>\n",
       "      <th>3</th>\n",
       "      <td>0973b37acd0c664e3de26e97e5571454</td>\n",
       "      <td>2016-03-25 22:59:23 +0000</td>\n",
       "      <td>http://www.flipkart.com/alisha-solid-women-s-c...</td>\n",
       "      <td>Alisha Solid Women's Cycling Shorts</td>\n",
       "      <td>[\"Clothing &gt;&gt; Women's Clothing &gt;&gt; Lingerie, Sl...</td>\n",
       "      <td>SRTEH2F6HUZMQ6SJ</td>\n",
       "      <td>699.0</td>\n",
       "      <td>267.0</td>\n",
       "      <td>[\"http://img5a.flixcart.com/image/short/6/2/h/...</td>\n",
       "      <td>False</td>\n",
       "      <td>Key Features of Alisha Solid Women's Cycling S...</td>\n",
       "      <td>NaN</td>\n",
       "      <td>NaN</td>\n",
       "      <td>Alisha</td>\n",
       "      <td>{\"product_specification\"=&gt;[{\"key\"=&gt;\"Number of ...</td>\n",
       "    </tr>\n",
       "    <tr>\n",
       "      <th>4</th>\n",
       "      <td>bc940ea42ee6bef5ac7cea3fb5cfbee7</td>\n",
       "      <td>2016-03-25 22:59:23 +0000</td>\n",
       "      <td>http://www.flipkart.com/sicons-all-purpose-arn...</td>\n",
       "      <td>Sicons All Purpose Arnica Dog Shampoo</td>\n",
       "      <td>[\"Pet Supplies &gt;&gt; Grooming &gt;&gt; Skin &amp; Coat Care...</td>\n",
       "      <td>PSOEH3ZYDMSYARJ5</td>\n",
       "      <td>220.0</td>\n",
       "      <td>210.0</td>\n",
       "      <td>[\"http://img5a.flixcart.com/image/pet-shampoo/...</td>\n",
       "      <td>False</td>\n",
       "      <td>Specifications of Sicons All Purpose Arnica Do...</td>\n",
       "      <td>NaN</td>\n",
       "      <td>NaN</td>\n",
       "      <td>Sicons</td>\n",
       "      <td>{\"product_specification\"=&gt;[{\"key\"=&gt;\"Pet Type\",...</td>\n",
       "    </tr>\n",
       "  </tbody>\n",
       "</table>\n",
       "</div>"
      ],
      "text/plain": [
       "                            uniq_id            crawl_timestamp  \\\n",
       "0  c2d766ca982eca8304150849735ffef9  2016-03-25 22:59:23 +0000   \n",
       "1  7f7036a6d550aaa89d34c77bd39a5e48  2016-03-25 22:59:23 +0000   \n",
       "2  f449ec65dcbc041b6ae5e6a32717d01b  2016-03-25 22:59:23 +0000   \n",
       "3  0973b37acd0c664e3de26e97e5571454  2016-03-25 22:59:23 +0000   \n",
       "4  bc940ea42ee6bef5ac7cea3fb5cfbee7  2016-03-25 22:59:23 +0000   \n",
       "\n",
       "                                         product_url  \\\n",
       "0  http://www.flipkart.com/alisha-solid-women-s-c...   \n",
       "1  http://www.flipkart.com/fabhomedecor-fabric-do...   \n",
       "2  http://www.flipkart.com/aw-bellies/p/itmeh4grg...   \n",
       "3  http://www.flipkart.com/alisha-solid-women-s-c...   \n",
       "4  http://www.flipkart.com/sicons-all-purpose-arn...   \n",
       "\n",
       "                            product_name  \\\n",
       "0    Alisha Solid Women's Cycling Shorts   \n",
       "1    FabHomeDecor Fabric Double Sofa Bed   \n",
       "2                             AW Bellies   \n",
       "3    Alisha Solid Women's Cycling Shorts   \n",
       "4  Sicons All Purpose Arnica Dog Shampoo   \n",
       "\n",
       "                               product_category_tree               pid  \\\n",
       "0  [\"Clothing >> Women's Clothing >> Lingerie, Sl...  SRTEH2FF9KEDEFGF   \n",
       "1  [\"Furniture >> Living Room Furniture >> Sofa B...  SBEEH3QGU7MFYJFY   \n",
       "2  [\"Footwear >> Women's Footwear >> Ballerinas >...  SHOEH4GRSUBJGZXE   \n",
       "3  [\"Clothing >> Women's Clothing >> Lingerie, Sl...  SRTEH2F6HUZMQ6SJ   \n",
       "4  [\"Pet Supplies >> Grooming >> Skin & Coat Care...  PSOEH3ZYDMSYARJ5   \n",
       "\n",
       "   retail_price  discounted_price  \\\n",
       "0         999.0             379.0   \n",
       "1       32157.0           22646.0   \n",
       "2         999.0             499.0   \n",
       "3         699.0             267.0   \n",
       "4         220.0             210.0   \n",
       "\n",
       "                                               image  is_FK_Advantage_product  \\\n",
       "0  [\"http://img5a.flixcart.com/image/short/u/4/a/...                    False   \n",
       "1  [\"http://img6a.flixcart.com/image/sofa-bed/j/f...                    False   \n",
       "2  [\"http://img5a.flixcart.com/image/shoe/7/z/z/r...                    False   \n",
       "3  [\"http://img5a.flixcart.com/image/short/6/2/h/...                    False   \n",
       "4  [\"http://img5a.flixcart.com/image/pet-shampoo/...                    False   \n",
       "\n",
       "                                         description  product_rating  \\\n",
       "0  Key Features of Alisha Solid Women's Cycling S...             NaN   \n",
       "1  FabHomeDecor Fabric Double Sofa Bed (Finish Co...             NaN   \n",
       "2  Key Features of AW Bellies Sandals Wedges Heel...             NaN   \n",
       "3  Key Features of Alisha Solid Women's Cycling S...             NaN   \n",
       "4  Specifications of Sicons All Purpose Arnica Do...             NaN   \n",
       "\n",
       "   overall_rating         brand  \\\n",
       "0             NaN        Alisha   \n",
       "1             NaN  FabHomeDecor   \n",
       "2             NaN            AW   \n",
       "3             NaN        Alisha   \n",
       "4             NaN        Sicons   \n",
       "\n",
       "                              product_specifications  \n",
       "0  {\"product_specification\"=>[{\"key\"=>\"Number of ...  \n",
       "1  {\"product_specification\"=>[{\"key\"=>\"Installati...  \n",
       "2  {\"product_specification\"=>[{\"key\"=>\"Ideal For\"...  \n",
       "3  {\"product_specification\"=>[{\"key\"=>\"Number of ...  \n",
       "4  {\"product_specification\"=>[{\"key\"=>\"Pet Type\",...  "
      ]
     },
     "execution_count": 3,
     "metadata": {},
     "output_type": "execute_result"
    }
   ],
   "source": [
    "pre_df.head()"
   ]
  },
  {
   "cell_type": "code",
   "execution_count": 4,
   "metadata": {
    "execution": {
     "iopub.execute_input": "2024-11-25T12:43:59.926763Z",
     "iopub.status.busy": "2024-11-25T12:43:59.926420Z",
     "iopub.status.idle": "2024-11-25T12:43:59.954885Z",
     "shell.execute_reply": "2024-11-25T12:43:59.953926Z",
     "shell.execute_reply.started": "2024-11-25T12:43:59.926727Z"
    },
    "trusted": true
   },
   "outputs": [
    {
     "name": "stdout",
     "output_type": "stream",
     "text": [
      "<class 'pandas.core.frame.DataFrame'>\n",
      "RangeIndex: 20000 entries, 0 to 19999\n",
      "Data columns (total 15 columns):\n",
      " #   Column                   Non-Null Count  Dtype  \n",
      "---  ------                   --------------  -----  \n",
      " 0   uniq_id                  20000 non-null  object \n",
      " 1   crawl_timestamp          20000 non-null  object \n",
      " 2   product_url              20000 non-null  object \n",
      " 3   product_name             20000 non-null  object \n",
      " 4   product_category_tree    20000 non-null  object \n",
      " 5   pid                      20000 non-null  object \n",
      " 6   retail_price             19922 non-null  float64\n",
      " 7   discounted_price         19922 non-null  float64\n",
      " 8   image                    19997 non-null  object \n",
      " 9   is_FK_Advantage_product  20000 non-null  bool   \n",
      " 10  description              19998 non-null  object \n",
      " 11  product_rating           1849 non-null   float64\n",
      " 12  overall_rating           1849 non-null   float64\n",
      " 13  brand                    14136 non-null  object \n",
      " 14  product_specifications   19986 non-null  object \n",
      "dtypes: bool(1), float64(4), object(10)\n",
      "memory usage: 2.2+ MB\n"
     ]
    }
   ],
   "source": [
    "pre_df.info()"
   ]
  },
  {
   "cell_type": "markdown",
   "metadata": {},
   "source": [
    "## ***Data Preprocessing***"
   ]
  },
  {
   "cell_type": "code",
   "execution_count": null,
   "metadata": {
    "execution": {
     "iopub.execute_input": "2024-11-25T12:45:58.742252Z",
     "iopub.status.busy": "2024-11-25T12:45:58.741690Z",
     "iopub.status.idle": "2024-11-25T12:45:58.813009Z",
     "shell.execute_reply": "2024-11-25T12:45:58.811768Z",
     "shell.execute_reply.started": "2024-11-25T12:45:58.742193Z"
    },
    "trusted": true
   },
   "outputs": [],
   "source": [
    "pre_df['product_category_tree']=pre_df['product_category_tree'].map(lambda x:x.strip('[]'))\n",
    "pre_df['product_category_tree']=pre_df['product_category_tree'].map(lambda x:x.strip('\"'))\n",
    "pre_df['product_category_tree']=pre_df['product_category_tree'].map(lambda x:x.split('>>'))"
   ]
  },
  {
   "cell_type": "markdown",
   "metadata": {},
   "source": [
    "axis=0 → Drop rows.\n",
    "axis=1 → Drop columns."
   ]
  },
  {
   "cell_type": "code",
   "execution_count": null,
   "metadata": {
    "execution": {
     "iopub.execute_input": "2024-11-25T12:47:45.350628Z",
     "iopub.status.busy": "2024-11-25T12:47:45.350251Z",
     "iopub.status.idle": "2024-11-25T12:47:45.365152Z",
     "shell.execute_reply": "2024-11-25T12:47:45.364271Z",
     "shell.execute_reply.started": "2024-11-25T12:47:45.350591Z"
    },
    "trusted": true
   },
   "outputs": [],
   "source": [
    "#delete unwanted columns\n",
    "del_list=['crawl_timestamp','product_url',\"retail_price\",\"discounted_price\",\"is_FK_Advantage_product\",\"product_rating\",\"overall_rating\",\"product_specifications\"]\n",
    "pre_df=pre_df.drop(del_list,axis=1)"
   ]
  },
  {
   "cell_type": "code",
   "execution_count": null,
   "metadata": {
    "execution": {
     "iopub.execute_input": "2024-11-25T14:33:15.826290Z",
     "iopub.status.busy": "2024-11-25T14:33:15.825785Z",
     "iopub.status.idle": "2024-11-25T14:33:16.872325Z",
     "shell.execute_reply": "2024-11-25T14:33:16.870963Z",
     "shell.execute_reply.started": "2024-11-25T14:33:15.826251Z"
    },
    "trusted": true
   },
   "outputs": [],
   "source": [
    "import nltk\n",
    "nltk.download(\"stopwords\")\n",
    "nltk.download(\"punkt\")\n",
    "nltk.download(\"wordnet\")\n",
    "from nltk.corpus import stopwords \n",
    "from nltk.tokenize import word_tokenize\n",
    "from nltk.stem.wordnet import WordNetLemmatizer \n",
    "lem = WordNetLemmatizer()\n",
    "stop_words = set(stopwords.words('english')) \n",
    "exclude = set(string.punctuation)\n",
    "import string"
   ]
  },
  {
   "cell_type": "code",
   "execution_count": null,
   "metadata": {
    "execution": {
     "iopub.execute_input": "2024-11-25T14:34:05.487969Z",
     "iopub.status.busy": "2024-11-25T14:34:05.487650Z",
     "iopub.status.idle": "2024-11-25T14:34:05.513333Z",
     "shell.execute_reply": "2024-11-25T14:34:05.512367Z",
     "shell.execute_reply.started": "2024-11-25T14:34:05.487939Z"
    },
    "trusted": true
   },
   "outputs": [],
   "source": [
    "pre_df.head()"
   ]
  },
  {
   "cell_type": "code",
   "execution_count": null,
   "metadata": {
    "execution": {
     "iopub.execute_input": "2024-11-25T14:34:15.743432Z",
     "iopub.status.busy": "2024-11-25T14:34:15.743132Z",
     "iopub.status.idle": "2024-11-25T14:34:15.749556Z",
     "shell.execute_reply": "2024-11-25T14:34:15.748418Z",
     "shell.execute_reply.started": "2024-11-25T14:34:15.743405Z"
    },
    "trusted": true
   },
   "outputs": [],
   "source": [
    "pre_df.shape"
   ]
  },
  {
   "cell_type": "code",
   "execution_count": null,
   "metadata": {
    "execution": {
     "iopub.execute_input": "2024-11-25T14:38:00.832076Z",
     "iopub.status.busy": "2024-11-25T14:38:00.831590Z",
     "iopub.status.idle": "2024-11-25T14:38:00.920336Z",
     "shell.execute_reply": "2024-11-25T14:38:00.919083Z",
     "shell.execute_reply.started": "2024-11-25T14:38:00.832038Z"
    },
    "trusted": true
   },
   "outputs": [],
   "source": [
    "smd=pre_df.copy()\n",
    "# drop duplicate produts\n",
    "smd.drop_duplicates(subset =\"product_name\", \n",
    "                     keep = \"first\", inplace = True)\n",
    "smd.shape"
   ]
  },
  {
   "cell_type": "markdown",
   "metadata": {},
   "source": [
    "### Data Cleaning"
   ]
  },
  {
   "cell_type": "markdown",
   "metadata": {},
   "source": [
    "Let’s say doc = \"The cats are running fast!\".\n",
    "\n",
    "- Lowercased: \"the cats are running fast!\"\n",
    "- Removed stopwords: \"cats running fast!\"\n",
    "- Removed punctuation: \"cats running fast\"\n",
    "- Tokenized: [\"cats\", \"running\", \"fast\"]\n",
    "- Lemmatized: [\"cat\", \"run\", \"fast\"]"
   ]
  },
  {
   "cell_type": "code",
   "execution_count": null,
   "metadata": {
    "execution": {
     "iopub.execute_input": "2024-11-25T14:38:18.946428Z",
     "iopub.status.busy": "2024-11-25T14:38:18.946074Z",
     "iopub.status.idle": "2024-11-25T14:38:18.952895Z",
     "shell.execute_reply": "2024-11-25T14:38:18.951855Z",
     "shell.execute_reply.started": "2024-11-25T14:38:18.946399Z"
    },
    "trusted": true
   },
   "outputs": [],
   "source": [
    "def filter_keywords(doc):\n",
    "    doc=doc.lower()\n",
    "    stop_free = \" \".join([i for i in doc.split() if i not in stop_words])\n",
    "    punc_free = \"\".join(ch for ch in stop_free if ch not in exclude)\n",
    "    word_tokens = word_tokenize(punc_free)\n",
    "    filtered_sentence = [(lem.lemmatize(w, \"v\")) for w in word_tokens]\n",
    "    return filtered_sentence"
   ]
  },
  {
   "cell_type": "code",
   "execution_count": null,
   "metadata": {
    "execution": {
     "iopub.execute_input": "2024-11-25T14:42:05.515121Z",
     "iopub.status.busy": "2024-11-25T14:42:05.514699Z",
     "iopub.status.idle": "2024-11-25T14:42:19.407777Z",
     "shell.execute_reply": "2024-11-25T14:42:19.406811Z",
     "shell.execute_reply.started": "2024-11-25T14:42:05.515062Z"
    },
    "trusted": true
   },
   "outputs": [],
   "source": [
    "\n",
    "smd['product'] = smd['product_name'].apply(filter_keywords)\n",
    "smd['description'] = smd['description'].astype(\"str\").apply(filter_keywords)\n",
    "smd['brand'] = smd['brand'].astype(\"str\").apply(filter_keywords)"
   ]
  },
  {
   "cell_type": "code",
   "execution_count": null,
   "metadata": {
    "execution": {
     "iopub.execute_input": "2024-11-25T14:42:19.410784Z",
     "iopub.status.busy": "2024-11-25T14:42:19.410480Z",
     "iopub.status.idle": "2024-11-25T14:42:19.798201Z",
     "shell.execute_reply": "2024-11-25T14:42:19.797224Z",
     "shell.execute_reply.started": "2024-11-25T14:42:19.410752Z"
    },
    "trusted": true
   },
   "outputs": [],
   "source": [
    "smd[\"all_meta\"]=smd['product']+smd['brand']+ pre_df['product_category_tree']+smd['description']\n",
    "smd[\"all_meta\"] = smd[\"all_meta\"].apply(lambda x: ' '.join(x))"
   ]
  },
  {
   "cell_type": "code",
   "execution_count": null,
   "metadata": {
    "execution": {
     "iopub.execute_input": "2024-11-25T14:42:19.800639Z",
     "iopub.status.busy": "2024-11-25T14:42:19.800266Z",
     "iopub.status.idle": "2024-11-25T14:42:19.809769Z",
     "shell.execute_reply": "2024-11-25T14:42:19.808612Z",
     "shell.execute_reply.started": "2024-11-25T14:42:19.800595Z"
    },
    "trusted": true
   },
   "outputs": [],
   "source": [
    "smd[\"all_meta\"].head()"
   ]
  },
  {
   "cell_type": "markdown",
   "metadata": {},
   "source": [
    "<strong>TfidfVectorizer</strong> will:\n",
    "\n",
    "- Tokenize the text into words and bigrams.\n",
    "- Remove stopwords.\n",
    "- Compute the Term Frequency-Inverse Document Frequency (TF-IDF) score for each token."
   ]
  },
  {
   "cell_type": "code",
   "execution_count": null,
   "metadata": {
    "execution": {
     "iopub.execute_input": "2024-11-25T14:42:44.892650Z",
     "iopub.status.busy": "2024-11-25T14:42:44.892345Z",
     "iopub.status.idle": "2024-11-25T14:42:47.505042Z",
     "shell.execute_reply": "2024-11-25T14:42:47.503913Z",
     "shell.execute_reply.started": "2024-11-25T14:42:44.892620Z"
    },
    "trusted": true
   },
   "outputs": [],
   "source": [
    "from sklearn.feature_extraction.text import TfidfVectorizer\n",
    "tf = TfidfVectorizer(analyzer='word',ngram_range=(1, 2),min_df=1, stop_words='english')\n",
    "tfidf_matrix = tf.fit_transform(smd['all_meta'])"
   ]
  },
  {
   "cell_type": "markdown",
   "metadata": {},
   "source": [
    "### Cosine Similarity\n",
    "I will be using the Cosine Similarity to calculate a numeric quantity that denotes the similarity between two products.\n",
    "Since we have used the TF-IDF Vectorizer, calculating the Dot Product will directly give us the Cosine Similarity Score."
   ]
  },
  {
   "cell_type": "markdown",
   "metadata": {},
   "source": [
    "<strong>Example Use Case:</strong>\n",
    "Suppose you're building a document recommendation system.\n",
    "\n",
    "- Compute the cosine similarity between all documents in your dataset.\n",
    "- Use the similarity scores to recommend the most similar documents to a given document"
   ]
  },
  {
   "cell_type": "code",
   "execution_count": null,
   "metadata": {
    "execution": {
     "iopub.execute_input": "2024-11-25T14:55:34.824373Z",
     "iopub.status.busy": "2024-11-25T14:55:34.823669Z",
     "iopub.status.idle": "2024-11-25T14:55:44.188110Z",
     "shell.execute_reply": "2024-11-25T14:55:44.186775Z",
     "shell.execute_reply.started": "2024-11-25T14:55:34.824329Z"
    },
    "trusted": true
   },
   "outputs": [],
   "source": [
    "from sklearn.metrics.pairwise import linear_kernel, cosine_similarity\n",
    "cosine_sim = cosine_similarity(tfidf_matrix, tfidf_matrix)"
   ]
  },
  {
   "cell_type": "markdown",
   "metadata": {},
   "source": [
    "We now have a pairwise cosine similarity matrix for all the products in our dataset. The next step is to write a function that returns the most similar products based on the cosine similarity score."
   ]
  },
  {
   "cell_type": "code",
   "execution_count": null,
   "metadata": {
    "execution": {
     "iopub.execute_input": "2024-11-25T15:01:29.612009Z",
     "iopub.status.busy": "2024-11-25T15:01:29.611456Z",
     "iopub.status.idle": "2024-11-25T15:01:29.619592Z",
     "shell.execute_reply": "2024-11-25T15:01:29.618203Z",
     "shell.execute_reply.started": "2024-11-25T15:01:29.611973Z"
    },
    "trusted": true
   },
   "outputs": [],
   "source": [
    "def get_recommendations(title):\n",
    "    # Step 1: Find the index of the given product/document by its title\n",
    "    idx = indices[title]\n",
    "    \n",
    "    # Step 2: Get the cosine similarity scores of the given product/document with all other products/documents\n",
    "    sim_scores = list(enumerate(cosine_sim[idx]))\n",
    "    \n",
    "    # Step 3: Sort the similarity scores in descending order (most similar to least similar)\n",
    "    sim_scores = sorted(sim_scores, key=lambda x: x[1], reverse=True)\n",
    "    \n",
    "    # Step 4: Select the top 30 most similar products/documents (excluding the first one, which is the document itself)\n",
    "    sim_scores = sim_scores[1:31]\n",
    "    \n",
    "    # Step 5: Extract the indices of the recommended products/documents\n",
    "    product_indices = [i[0] for i in sim_scores]\n",
    "    \n",
    "    # Step 6: Return the titles (or names) of the recommended products/documents using the extracted indices\n",
    "    return titles.iloc[product_indices]\n"
   ]
  },
  {
   "cell_type": "code",
   "execution_count": null,
   "metadata": {
    "execution": {
     "iopub.execute_input": "2024-11-25T15:01:51.850018Z",
     "iopub.status.busy": "2024-11-25T15:01:51.849694Z",
     "iopub.status.idle": "2024-11-25T15:01:51.919401Z",
     "shell.execute_reply": "2024-11-25T15:01:51.918126Z",
     "shell.execute_reply.started": "2024-11-25T15:01:51.849988Z"
    },
    "trusted": true
   },
   "outputs": [],
   "source": [
    "smd = smd.reset_index()\n",
    "titles = smd['product_name']\n",
    "indices = pd.Series(smd.index, index=smd['product_name'])"
   ]
  },
  {
   "cell_type": "markdown",
   "metadata": {},
   "source": [
    "Let us now try and get the top recommendations for a few products."
   ]
  },
  {
   "cell_type": "code",
   "execution_count": null,
   "metadata": {
    "execution": {
     "iopub.execute_input": "2024-11-25T15:02:03.248112Z",
     "iopub.status.busy": "2024-11-25T15:02:03.247777Z",
     "iopub.status.idle": "2024-11-25T15:02:03.274410Z",
     "shell.execute_reply": "2024-11-25T15:02:03.273244Z",
     "shell.execute_reply.started": "2024-11-25T15:02:03.248063Z"
    },
    "trusted": true
   },
   "outputs": [],
   "source": [
    "get_recommendations(\"FabHomeDecor Fabric Double Sofa Bed\").head(5)"
   ]
  },
  {
   "cell_type": "code",
   "execution_count": null,
   "metadata": {
    "execution": {
     "iopub.execute_input": "2024-11-25T15:02:28.052869Z",
     "iopub.status.busy": "2024-11-25T15:02:28.052496Z",
     "iopub.status.idle": "2024-11-25T15:02:28.074385Z",
     "shell.execute_reply": "2024-11-25T15:02:28.073346Z",
     "shell.execute_reply.started": "2024-11-25T15:02:28.052823Z"
    },
    "trusted": true
   },
   "outputs": [],
   "source": [
    "get_recommendations(\"Alisha Solid Women's Cycling Shorts\").head(5)"
   ]
  },
  {
   "cell_type": "code",
   "execution_count": null,
   "metadata": {
    "execution": {
     "iopub.execute_input": "2024-11-25T15:02:49.349105Z",
     "iopub.status.busy": "2024-11-25T15:02:49.348703Z",
     "iopub.status.idle": "2024-11-25T15:02:49.976405Z",
     "shell.execute_reply": "2024-11-25T15:02:49.975247Z",
     "shell.execute_reply.started": "2024-11-25T15:02:49.349051Z"
    },
    "trusted": true
   },
   "outputs": [],
   "source": [
    "# get_recommendations(\"Alisha Solid Women's Cycling Shorts\").head(5).to_csv(\"Alisha Solid Women's Cycling Shorts recommendations\",index=False,header=True)"
   ]
  },
  {
   "cell_type": "code",
   "execution_count": null,
   "metadata": {
    "trusted": true
   },
   "outputs": [],
   "source": []
  }
 ],
 "metadata": {
  "kaggle": {
   "accelerator": "none",
   "dataSources": [
    {
     "datasetId": 2506,
     "sourceId": 4189,
     "sourceType": "datasetVersion"
    }
   ],
   "dockerImageVersionId": 29867,
   "isGpuEnabled": false,
   "isInternetEnabled": true,
   "language": "python",
   "sourceType": "notebook"
  },
  "kernelspec": {
   "display_name": "myenv",
   "language": "python",
   "name": "python3"
  },
  "language_info": {
   "codemirror_mode": {
    "name": "ipython",
    "version": 3
   },
   "file_extension": ".py",
   "mimetype": "text/x-python",
   "name": "python",
   "nbconvert_exporter": "python",
   "pygments_lexer": "ipython3",
   "version": "3.10.16"
  }
 },
 "nbformat": 4,
 "nbformat_minor": 4
}
