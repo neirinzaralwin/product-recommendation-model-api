{
 "cells": [
  {
   "cell_type": "markdown",
   "metadata": {},
   "source": [
    "In this notebook, I will attempt at implementing **Content Based Recommendation System**."
   ]
  },
  {
   "cell_type": "code",
   "execution_count": null,
   "metadata": {
    "_cell_guid": "b1076dfc-b9ad-4769-8c92-a6c4dae69d19",
    "_uuid": "8f2839f25d086af736a60e9eeb907d3b93b6e0e5",
    "execution": {
     "iopub.execute_input": "2024-11-25T12:43:20.896356Z",
     "iopub.status.busy": "2024-11-25T12:43:20.895815Z",
     "iopub.status.idle": "2024-11-25T12:43:22.903177Z",
     "shell.execute_reply": "2024-11-25T12:43:22.901737Z",
     "shell.execute_reply.started": "2024-11-25T12:43:20.896299Z"
    },
    "trusted": true
   },
   "outputs": [],
   "source": [
    "import pandas as pd\n",
    "import numpy as np\n",
    "import seaborn as sns\n",
    "import matplotlib.pyplot as plt\n",
    "import string\n",
    "import re\n",
    "import os\n",
    "%matplotlib inline"
   ]
  },
  {
   "cell_type": "code",
   "execution_count": null,
   "metadata": {
    "_cell_guid": "79c7e3d0-c299-4dcb-8224-4455121ee9b0",
    "_uuid": "d629ff2d2480ee46fbb7e2d37f6b5fab8052498a",
    "execution": {
     "iopub.execute_input": "2024-11-25T12:43:28.978894Z",
     "iopub.status.busy": "2024-11-25T12:43:28.978554Z",
     "iopub.status.idle": "2024-11-25T12:43:29.835329Z",
     "shell.execute_reply": "2024-11-25T12:43:29.834369Z",
     "shell.execute_reply.started": "2024-11-25T12:43:28.978858Z"
    },
    "trusted": true
   },
   "outputs": [],
   "source": [
    "pre_df=pd.read_csv(\"/Users/neirinzaralwin/Developer/personal/product_recommendation_model_api/data/raw/flipkart_sample.csv\", na_values=[\"No rating available\"])"
   ]
  },
  {
   "cell_type": "code",
   "execution_count": null,
   "metadata": {
    "execution": {
     "iopub.execute_input": "2024-11-25T12:43:35.386500Z",
     "iopub.status.busy": "2024-11-25T12:43:35.386186Z",
     "iopub.status.idle": "2024-11-25T12:43:35.423338Z",
     "shell.execute_reply": "2024-11-25T12:43:35.422242Z",
     "shell.execute_reply.started": "2024-11-25T12:43:35.386472Z"
    },
    "trusted": true
   },
   "outputs": [],
   "source": [
    "pre_df.head()"
   ]
  },
  {
   "cell_type": "code",
   "execution_count": null,
   "metadata": {
    "execution": {
     "iopub.execute_input": "2024-11-25T12:43:59.926763Z",
     "iopub.status.busy": "2024-11-25T12:43:59.926420Z",
     "iopub.status.idle": "2024-11-25T12:43:59.954885Z",
     "shell.execute_reply": "2024-11-25T12:43:59.953926Z",
     "shell.execute_reply.started": "2024-11-25T12:43:59.926727Z"
    },
    "trusted": true
   },
   "outputs": [],
   "source": [
    "pre_df.info()"
   ]
  },
  {
   "cell_type": "markdown",
   "metadata": {},
   "source": [
    "## ***Data Preprocessing***"
   ]
  },
  {
   "cell_type": "code",
   "execution_count": null,
   "metadata": {
    "execution": {
     "iopub.execute_input": "2024-11-25T12:45:58.742252Z",
     "iopub.status.busy": "2024-11-25T12:45:58.741690Z",
     "iopub.status.idle": "2024-11-25T12:45:58.813009Z",
     "shell.execute_reply": "2024-11-25T12:45:58.811768Z",
     "shell.execute_reply.started": "2024-11-25T12:45:58.742193Z"
    },
    "trusted": true
   },
   "outputs": [],
   "source": [
    "pre_df['product_category_tree']=pre_df['product_category_tree'].map(lambda x:x.strip('[]'))\n",
    "pre_df['product_category_tree']=pre_df['product_category_tree'].map(lambda x:x.strip('\"'))\n",
    "pre_df['product_category_tree']=pre_df['product_category_tree'].map(lambda x:x.split('>>'))"
   ]
  },
  {
   "cell_type": "markdown",
   "metadata": {},
   "source": [
    "axis=0 → Drop rows.\n",
    "axis=1 → Drop columns."
   ]
  },
  {
   "cell_type": "code",
   "execution_count": null,
   "metadata": {
    "execution": {
     "iopub.execute_input": "2024-11-25T12:47:45.350628Z",
     "iopub.status.busy": "2024-11-25T12:47:45.350251Z",
     "iopub.status.idle": "2024-11-25T12:47:45.365152Z",
     "shell.execute_reply": "2024-11-25T12:47:45.364271Z",
     "shell.execute_reply.started": "2024-11-25T12:47:45.350591Z"
    },
    "trusted": true
   },
   "outputs": [],
   "source": [
    "#delete unwanted columns\n",
    "del_list=['crawl_timestamp','product_url',\"retail_price\",\"discounted_price\",\"is_FK_Advantage_product\",\"product_rating\",\"overall_rating\",\"product_specifications\"]\n",
    "pre_df=pre_df.drop(del_list,axis=1)"
   ]
  },
  {
   "cell_type": "code",
   "execution_count": null,
   "metadata": {
    "execution": {
     "iopub.execute_input": "2024-11-25T14:33:15.826290Z",
     "iopub.status.busy": "2024-11-25T14:33:15.825785Z",
     "iopub.status.idle": "2024-11-25T14:33:16.872325Z",
     "shell.execute_reply": "2024-11-25T14:33:16.870963Z",
     "shell.execute_reply.started": "2024-11-25T14:33:15.826251Z"
    },
    "trusted": true
   },
   "outputs": [],
   "source": [
    "import nltk\n",
    "nltk.download(\"stopwords\")\n",
    "nltk.download(\"punkt\")\n",
    "nltk.download(\"wordnet\")\n",
    "from nltk.corpus import stopwords \n",
    "from nltk.tokenize import word_tokenize\n",
    "from nltk.stem.wordnet import WordNetLemmatizer \n",
    "lem = WordNetLemmatizer()\n",
    "stop_words = set(stopwords.words('english')) \n",
    "exclude = set(string.punctuation)\n",
    "import string"
   ]
  },
  {
   "cell_type": "code",
   "execution_count": null,
   "metadata": {
    "execution": {
     "iopub.execute_input": "2024-11-25T14:34:05.487969Z",
     "iopub.status.busy": "2024-11-25T14:34:05.487650Z",
     "iopub.status.idle": "2024-11-25T14:34:05.513333Z",
     "shell.execute_reply": "2024-11-25T14:34:05.512367Z",
     "shell.execute_reply.started": "2024-11-25T14:34:05.487939Z"
    },
    "trusted": true
   },
   "outputs": [],
   "source": [
    "pre_df.head()"
   ]
  },
  {
   "cell_type": "code",
   "execution_count": null,
   "metadata": {
    "execution": {
     "iopub.execute_input": "2024-11-25T14:34:15.743432Z",
     "iopub.status.busy": "2024-11-25T14:34:15.743132Z",
     "iopub.status.idle": "2024-11-25T14:34:15.749556Z",
     "shell.execute_reply": "2024-11-25T14:34:15.748418Z",
     "shell.execute_reply.started": "2024-11-25T14:34:15.743405Z"
    },
    "trusted": true
   },
   "outputs": [],
   "source": [
    "pre_df.shape"
   ]
  },
  {
   "cell_type": "code",
   "execution_count": null,
   "metadata": {
    "execution": {
     "iopub.execute_input": "2024-11-25T14:38:00.832076Z",
     "iopub.status.busy": "2024-11-25T14:38:00.831590Z",
     "iopub.status.idle": "2024-11-25T14:38:00.920336Z",
     "shell.execute_reply": "2024-11-25T14:38:00.919083Z",
     "shell.execute_reply.started": "2024-11-25T14:38:00.832038Z"
    },
    "trusted": true
   },
   "outputs": [],
   "source": [
    "smd=pre_df.copy()\n",
    "# drop duplicate produts\n",
    "smd.drop_duplicates(subset =\"product_name\", \n",
    "                     keep = \"first\", inplace = True)\n",
    "smd.shape"
   ]
  },
  {
   "cell_type": "markdown",
   "metadata": {},
   "source": [
    "### Data Cleaning"
   ]
  },
  {
   "cell_type": "markdown",
   "metadata": {},
   "source": [
    "Let’s say doc = \"The cats are running fast!\".\n",
    "\n",
    "- Lowercased: \"the cats are running fast!\"\n",
    "- Removed stopwords: \"cats running fast!\"\n",
    "- Removed punctuation: \"cats running fast\"\n",
    "- Tokenized: [\"cats\", \"running\", \"fast\"]\n",
    "- Lemmatized: [\"cat\", \"run\", \"fast\"]"
   ]
  },
  {
   "cell_type": "code",
   "execution_count": null,
   "metadata": {
    "execution": {
     "iopub.execute_input": "2024-11-25T14:38:18.946428Z",
     "iopub.status.busy": "2024-11-25T14:38:18.946074Z",
     "iopub.status.idle": "2024-11-25T14:38:18.952895Z",
     "shell.execute_reply": "2024-11-25T14:38:18.951855Z",
     "shell.execute_reply.started": "2024-11-25T14:38:18.946399Z"
    },
    "trusted": true
   },
   "outputs": [],
   "source": [
    "def filter_keywords(doc):\n",
    "    doc=doc.lower()\n",
    "    stop_free = \" \".join([i for i in doc.split() if i not in stop_words])\n",
    "    punc_free = \"\".join(ch for ch in stop_free if ch not in exclude)\n",
    "    word_tokens = word_tokenize(punc_free)\n",
    "    filtered_sentence = [(lem.lemmatize(w, \"v\")) for w in word_tokens]\n",
    "    return filtered_sentence"
   ]
  },
  {
   "cell_type": "code",
   "execution_count": null,
   "metadata": {
    "execution": {
     "iopub.execute_input": "2024-11-25T14:42:05.515121Z",
     "iopub.status.busy": "2024-11-25T14:42:05.514699Z",
     "iopub.status.idle": "2024-11-25T14:42:19.407777Z",
     "shell.execute_reply": "2024-11-25T14:42:19.406811Z",
     "shell.execute_reply.started": "2024-11-25T14:42:05.515062Z"
    },
    "trusted": true
   },
   "outputs": [],
   "source": [
    "\n",
    "smd['product'] = smd['product_name'].apply(filter_keywords)\n",
    "smd['description'] = smd['description'].astype(\"str\").apply(filter_keywords)\n",
    "smd['brand'] = smd['brand'].astype(\"str\").apply(filter_keywords)"
   ]
  },
  {
   "cell_type": "code",
   "execution_count": null,
   "metadata": {
    "execution": {
     "iopub.execute_input": "2024-11-25T14:42:19.410784Z",
     "iopub.status.busy": "2024-11-25T14:42:19.410480Z",
     "iopub.status.idle": "2024-11-25T14:42:19.798201Z",
     "shell.execute_reply": "2024-11-25T14:42:19.797224Z",
     "shell.execute_reply.started": "2024-11-25T14:42:19.410752Z"
    },
    "trusted": true
   },
   "outputs": [],
   "source": [
    "smd[\"all_meta\"]=smd['product']+smd['brand']+ pre_df['product_category_tree']+smd['description']\n",
    "smd[\"all_meta\"] = smd[\"all_meta\"].apply(lambda x: ' '.join(x))"
   ]
  },
  {
   "cell_type": "code",
   "execution_count": null,
   "metadata": {
    "execution": {
     "iopub.execute_input": "2024-11-25T14:42:19.800639Z",
     "iopub.status.busy": "2024-11-25T14:42:19.800266Z",
     "iopub.status.idle": "2024-11-25T14:42:19.809769Z",
     "shell.execute_reply": "2024-11-25T14:42:19.808612Z",
     "shell.execute_reply.started": "2024-11-25T14:42:19.800595Z"
    },
    "trusted": true
   },
   "outputs": [],
   "source": [
    "smd[\"all_meta\"].head()"
   ]
  },
  {
   "cell_type": "markdown",
   "metadata": {},
   "source": [
    "<strong>TfidfVectorizer</strong> will:\n",
    "\n",
    "- Tokenize the text into words and bigrams.\n",
    "- Remove stopwords.\n",
    "- Compute the Term Frequency-Inverse Document Frequency (TF-IDF) score for each token."
   ]
  },
  {
   "cell_type": "code",
   "execution_count": null,
   "metadata": {
    "execution": {
     "iopub.execute_input": "2024-11-25T14:42:44.892650Z",
     "iopub.status.busy": "2024-11-25T14:42:44.892345Z",
     "iopub.status.idle": "2024-11-25T14:42:47.505042Z",
     "shell.execute_reply": "2024-11-25T14:42:47.503913Z",
     "shell.execute_reply.started": "2024-11-25T14:42:44.892620Z"
    },
    "trusted": true
   },
   "outputs": [],
   "source": [
    "from sklearn.feature_extraction.text import TfidfVectorizer\n",
    "tf = TfidfVectorizer(analyzer='word',ngram_range=(1, 2),min_df=1, stop_words='english')\n",
    "tfidf_matrix = tf.fit_transform(smd['all_meta'])"
   ]
  },
  {
   "cell_type": "markdown",
   "metadata": {},
   "source": [
    "### Cosine Similarity\n",
    "I will be using the Cosine Similarity to calculate a numeric quantity that denotes the similarity between two products.\n",
    "Since we have used the TF-IDF Vectorizer, calculating the Dot Product will directly give us the Cosine Similarity Score."
   ]
  },
  {
   "cell_type": "markdown",
   "metadata": {},
   "source": [
    "<strong>Example Use Case:</strong>\n",
    "Suppose you're building a document recommendation system.\n",
    "\n",
    "- Compute the cosine similarity between all documents in your dataset.\n",
    "- Use the similarity scores to recommend the most similar documents to a given document"
   ]
  },
  {
   "cell_type": "code",
   "execution_count": null,
   "metadata": {
    "execution": {
     "iopub.execute_input": "2024-11-25T14:55:34.824373Z",
     "iopub.status.busy": "2024-11-25T14:55:34.823669Z",
     "iopub.status.idle": "2024-11-25T14:55:44.188110Z",
     "shell.execute_reply": "2024-11-25T14:55:44.186775Z",
     "shell.execute_reply.started": "2024-11-25T14:55:34.824329Z"
    },
    "trusted": true
   },
   "outputs": [],
   "source": [
    "from sklearn.metrics.pairwise import linear_kernel, cosine_similarity\n",
    "cosine_sim = cosine_similarity(tfidf_matrix, tfidf_matrix)"
   ]
  },
  {
   "cell_type": "markdown",
   "metadata": {},
   "source": [
    "We now have a pairwise cosine similarity matrix for all the products in our dataset. The next step is to write a function that returns the most similar products based on the cosine similarity score."
   ]
  },
  {
   "cell_type": "code",
   "execution_count": null,
   "metadata": {
    "execution": {
     "iopub.execute_input": "2024-11-25T15:01:29.612009Z",
     "iopub.status.busy": "2024-11-25T15:01:29.611456Z",
     "iopub.status.idle": "2024-11-25T15:01:29.619592Z",
     "shell.execute_reply": "2024-11-25T15:01:29.618203Z",
     "shell.execute_reply.started": "2024-11-25T15:01:29.611973Z"
    },
    "trusted": true
   },
   "outputs": [],
   "source": [
    "def get_recommendations(title):\n",
    "    # Step 1: Find the index of the given product/document by its title\n",
    "    idx = indices[title]\n",
    "    \n",
    "    # Step 2: Get the cosine similarity scores of the given product/document with all other products/documents\n",
    "    sim_scores = list(enumerate(cosine_sim[idx]))\n",
    "    \n",
    "    # Step 3: Sort the similarity scores in descending order (most similar to least similar)\n",
    "    sim_scores = sorted(sim_scores, key=lambda x: x[1], reverse=True)\n",
    "    \n",
    "    # Step 4: Select the top 30 most similar products/documents (excluding the first one, which is the document itself)\n",
    "    sim_scores = sim_scores[1:31]\n",
    "    \n",
    "    # Step 5: Extract the indices of the recommended products/documents\n",
    "    product_indices = [i[0] for i in sim_scores]\n",
    "    \n",
    "    # Step 6: Return the titles (or names) of the recommended products/documents using the extracted indices\n",
    "    return titles.iloc[product_indices]\n"
   ]
  },
  {
   "cell_type": "code",
   "execution_count": null,
   "metadata": {
    "execution": {
     "iopub.execute_input": "2024-11-25T15:01:51.850018Z",
     "iopub.status.busy": "2024-11-25T15:01:51.849694Z",
     "iopub.status.idle": "2024-11-25T15:01:51.919401Z",
     "shell.execute_reply": "2024-11-25T15:01:51.918126Z",
     "shell.execute_reply.started": "2024-11-25T15:01:51.849988Z"
    },
    "trusted": true
   },
   "outputs": [],
   "source": [
    "smd = smd.reset_index()\n",
    "titles = smd['product_name']\n",
    "indices = pd.Series(smd.index, index=smd['product_name'])"
   ]
  },
  {
   "cell_type": "markdown",
   "metadata": {},
   "source": [
    "Let us now try and get the top recommendations for a few products."
   ]
  },
  {
   "cell_type": "code",
   "execution_count": null,
   "metadata": {
    "execution": {
     "iopub.execute_input": "2024-11-25T15:02:03.248112Z",
     "iopub.status.busy": "2024-11-25T15:02:03.247777Z",
     "iopub.status.idle": "2024-11-25T15:02:03.274410Z",
     "shell.execute_reply": "2024-11-25T15:02:03.273244Z",
     "shell.execute_reply.started": "2024-11-25T15:02:03.248063Z"
    },
    "trusted": true
   },
   "outputs": [],
   "source": [
    "get_recommendations(\"FabHomeDecor Fabric Double Sofa Bed\").head(5)"
   ]
  },
  {
   "cell_type": "code",
   "execution_count": null,
   "metadata": {
    "execution": {
     "iopub.execute_input": "2024-11-25T15:02:28.052869Z",
     "iopub.status.busy": "2024-11-25T15:02:28.052496Z",
     "iopub.status.idle": "2024-11-25T15:02:28.074385Z",
     "shell.execute_reply": "2024-11-25T15:02:28.073346Z",
     "shell.execute_reply.started": "2024-11-25T15:02:28.052823Z"
    },
    "trusted": true
   },
   "outputs": [],
   "source": [
    "get_recommendations(\"Alisha Solid Women's Cycling Shorts\").head(5)"
   ]
  },
  {
   "cell_type": "code",
   "execution_count": null,
   "metadata": {
    "execution": {
     "iopub.execute_input": "2024-11-25T15:02:49.349105Z",
     "iopub.status.busy": "2024-11-25T15:02:49.348703Z",
     "iopub.status.idle": "2024-11-25T15:02:49.976405Z",
     "shell.execute_reply": "2024-11-25T15:02:49.975247Z",
     "shell.execute_reply.started": "2024-11-25T15:02:49.349051Z"
    },
    "trusted": true
   },
   "outputs": [],
   "source": [
    "# get_recommendations(\"Alisha Solid Women's Cycling Shorts\").head(5).to_csv(\"Alisha Solid Women's Cycling Shorts recommendations\",index=False,header=True)"
   ]
  },
  {
   "cell_type": "code",
   "execution_count": null,
   "metadata": {
    "trusted": true
   },
   "outputs": [],
   "source": []
  }
 ],
 "metadata": {
  "kaggle": {
   "accelerator": "none",
   "dataSources": [
    {
     "datasetId": 2506,
     "sourceId": 4189,
     "sourceType": "datasetVersion"
    }
   ],
   "dockerImageVersionId": 29867,
   "isGpuEnabled": false,
   "isInternetEnabled": true,
   "language": "python",
   "sourceType": "notebook"
  },
  "kernelspec": {
   "display_name": "myenv",
   "language": "python",
   "name": "python3"
  },
  "language_info": {
   "codemirror_mode": {
    "name": "ipython",
    "version": 3
   },
   "file_extension": ".py",
   "mimetype": "text/x-python",
   "name": "python",
   "nbconvert_exporter": "python",
   "pygments_lexer": "ipython3",
   "version": "3.10.16"
  }
 },
 "nbformat": 4,
 "nbformat_minor": 4
}
